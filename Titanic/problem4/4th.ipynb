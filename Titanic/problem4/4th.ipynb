{
 "cells": [
  {
   "cell_type": "code",
   "execution_count": 14,
   "id": "50830e17-a4be-4b9d-8f2a-db94bbde38b8",
   "metadata": {},
   "outputs": [
    {
     "name": "stdout",
     "output_type": "stream",
     "text": [
      "Total survivors are 342 and they are classified as follows\n",
      "Children: 38\n",
      "Male: 90\n",
      "Female: 214\n",
      "\n",
      "Total non-survivors are 549 and they are classified as follows\n",
      "Children: 24\n",
      "Male: 455\n",
      "Female: 70\n"
     ]
    }
   ],
   "source": [
    "def process_passengers(file_path):\n",
    "    def is_child(age):\n",
    "        return age < 10\n",
    "\n",
    "    def is_male(gender):\n",
    "        return gender == 'male'\n",
    "\n",
    "    def is_female(gender):\n",
    "        return gender == 'female'\n",
    "\n",
    "    survivors = {'children': [], 'male': [], 'female': []}\n",
    "    non_survivors = {'children': [], 'male': [], 'female': []}\n",
    "\n",
    "    with open(file_path, 'r') as file:\n",
    "        next(file)  # Skip the header line\n",
    "        for line in file:\n",
    "            parts = line.split(',')\n",
    "            name = parts[4]\n",
    "            age = int(float(parts[6])) if parts[6] else 40\n",
    "            gender = parts[5]\n",
    "            survived = parts[1] == '1'\n",
    "\n",
    "            if survived:\n",
    "                if is_child(age):\n",
    "                    survivors['children'].append((name, age, gender))\n",
    "                elif is_male(gender):\n",
    "                    survivors['male'].append((name, age))\n",
    "                elif is_female(gender):\n",
    "                    survivors['female'].append((name, age))\n",
    "            else:\n",
    "                if is_child(age):\n",
    "                    non_survivors['children'].append((name, age, gender))\n",
    "                elif is_male(gender):\n",
    "                    non_survivors['male'].append((name, age))\n",
    "                elif is_female(gender):\n",
    "                    non_survivors['female'].append((name, age))\n",
    "\n",
    "    return survivors, non_survivors\n",
    "\n",
    "def count_total(passenger_groups):\n",
    "    return sum(len(group) for group in passenger_groups.values())\n",
    "\n",
    "survivors, non_survivors = process_passengers('titanic.csv')\n",
    "\n",
    "#print(\"Survivors:\")\n",
    "print(\"Total survivors are\", count_total(survivors),\"and they are classified as follows\")\n",
    "for group, passengers in survivors.items():\n",
    "    print(f\"{group.capitalize()}: {len(passengers)}\")\n",
    "\n",
    "#print(\"\\nNon-survivors:\")\n",
    "print(\"\\nTotal non-survivors are\", count_total(non_survivors),\"and they are classified as follows\")\n",
    "for group, passengers in non_survivors.items():\n",
    "    print(f\"{group.capitalize()}: {len(passengers)}\")\n"
   ]
  },
  {
   "cell_type": "code",
   "execution_count": null,
   "id": "a056883f-1ac2-458a-a69d-5b540c36b9c2",
   "metadata": {},
   "outputs": [],
   "source": []
  }
 ],
 "metadata": {
  "kernelspec": {
   "display_name": "Python 3 (ipykernel)",
   "language": "python",
   "name": "python3"
  },
  "language_info": {
   "codemirror_mode": {
    "name": "ipython",
    "version": 3
   },
   "file_extension": ".py",
   "mimetype": "text/x-python",
   "name": "python",
   "nbconvert_exporter": "python",
   "pygments_lexer": "ipython3",
   "version": "3.12.0"
  }
 },
 "nbformat": 4,
 "nbformat_minor": 5
}
